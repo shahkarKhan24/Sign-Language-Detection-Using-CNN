{
 "cells": [
  {
   "cell_type": "code",
   "execution_count": 5,
   "metadata": {},
   "outputs": [],
   "source": [
    "from keras.layers import Conv2D, MaxPooling2D, Dense, Flatten\n",
    "from keras.preprocessing.image import ImageDataGenerator\n",
    "from keras import datasets, layers, models\n",
    "from keras.preprocessing import image\n",
    "from keras.models import Sequential\n",
    "import matplotlib.pyplot as plt\n",
    "from pathlib import Path\n",
    "import tensorflow as tf\n",
    "import numpy as np\n",
    "import random\n",
    "import keras\n",
    "import cv2\n",
    "import os\n",
    "from sklearn.model_selection import train_test_split\n",
    "from sklearn.metrics import class_likelihood_ratios, confusion_matrix"
   ]
  },
  {
   "cell_type": "code",
   "execution_count": 6,
   "metadata": {},
   "outputs": [
    {
     "data": {
      "image/png": "[encoded data removed]",
      "text/plain": [
       "<Figure size 640x480 with 1 Axes>"
      ]
     },
     "metadata": {},
     "output_type": "display_data"
    }
   ],
   "source": [
    "DATADIR =\"./Dataset2/\"\n",
    "CATEGORIES = [\"A\",\"B\",\"C\",\"D\",\"E\",\"F\",\"G\",\"H\",\"I\",\"J\",\"K\",\"L\",\"M\",\"N\",\"O\",\"P\",\"Q\",\"R\",\"S\",\"T\",\"U\",\"V\",\"W\",\"X\",\"Y\",\"Z\"]\n",
    "# CATEGORIES = [\"Bread\",\"Dairy Product\",\"Dessert\",\"Egg\",\"Fried food\",\"Meat\",\"Noodles-Pasta\",\"Rice\",\"Seafood\",\"Soup\",\"Vegetable-Fruit\"]\n",
    "\n",
    "for cat in CATEGORIES:\n",
    "    path= os.path.join(DATADIR, cat)\n",
    "    for img in os.listdir(path):\n",
    "\n",
    "        img_array=cv2.imread(os.path.join(path,img),cv2.IMREAD_GRAYSCALE)\n",
    "        plt.imshow(img_array, cmap=\"gray\")\n",
    "        break\n",
    "    break"
   ]
  },
  {
   "cell_type": "code",
   "execution_count": 7,
   "metadata": {},
   "outputs": [
    {
     "name": "stdout",
     "output_type": "stream",
     "text": [
      "(50, 50)\n"
     ]
    }
   ],
   "source": [
    "print(img_array.shape)\n",
    "IMG_SIZE=60\n",
    "# new_array=cv2.resize(img_array,(IMG_SIZE, IMG_SIZE))\n",
    "# print(new_array.shape)"
   ]
  },
  {
   "cell_type": "code",
   "execution_count": 8,
   "metadata": {},
   "outputs": [],
   "source": [
    "training_data=[]\n",
    "\n",
    "def create_training_data():\n",
    "    for cat in CATEGORIES:\n",
    "        path= os.path.join(DATADIR, cat)\n",
    "        class_num = CATEGORIES.index(cat)\n",
    "        for img in os.listdir(path):\n",
    "            try:\n",
    "                 img_array=cv2.imread(os.path.join(path,img),cv2.IMREAD_GRAYSCALE)\n",
    "                 new_array=cv2.resize(img_array,(IMG_SIZE, IMG_SIZE))\n",
    "                 training_data.append([new_array,class_num])\n",
    "            except Exception as e:\n",
    "                pass\n",
    "create_training_data()"
   ]
  },
  {
   "cell_type": "code",
   "execution_count": 9,
   "metadata": {},
   "outputs": [
    {
     "name": "stdout",
     "output_type": "stream",
     "text": [
      "39000\n"
     ]
    }
   ],
   "source": [
    "print(len(training_data))"
   ]
  },
  {
   "cell_type": "code",
   "execution_count": 10,
   "metadata": {},
   "outputs": [
    {
     "name": "stdout",
     "output_type": "stream",
     "text": [
      "15\n",
      "24\n",
      "13\n",
      "25\n",
      "24\n"
     ]
    }
   ],
   "source": [
    "random.shuffle(training_data)\n",
    "\n",
    "# print(training_data)\n",
    "for sample in training_data[:5]:\n",
    "    print(sample[1])"
   ]
  },
  {
   "cell_type": "code",
   "execution_count": 11,
   "metadata": {},
   "outputs": [],
   "source": [
    "X=[]\n",
    "y=[]\n",
    "\n",
    "for features, label in training_data:\n",
    "    X.append(features)\n",
    "    y.append(label)\n",
    "\n",
    "X=np.array(X).reshape(-1, IMG_SIZE,IMG_SIZE,1)"
   ]
  },
  {
   "cell_type": "code",
   "execution_count": 12,
   "metadata": {},
   "outputs": [],
   "source": [
    "import pickle\n",
    "\n",
    "pickle_out= open(\"X.pickle\",\"wb\")\n",
    "pickle.dump(X,pickle_out)\n",
    "pickle_out.close()\n",
    "\n",
    "pickle_out= open(\"y.pickle\",\"wb\")\n",
    "pickle.dump(y,pickle_out)\n",
    "pickle_out.close()"
   ]
  },
  {
   "cell_type": "code",
   "execution_count": 13,
   "metadata": {},
   "outputs": [
    {
     "data": {
      "text/plain": [
       "24"
      ]
     },
     "execution_count": 13,
     "metadata": {},
     "output_type": "execute_result"
    }
   ],
   "source": [
    "pickle_in=open(\"X.pickle\",\"rb\")\n",
    "X=pickle.load(pickle_in)\n",
    "y[1]"
   ]
  },
  {
   "cell_type": "code",
   "execution_count": 14,
   "metadata": {},
   "outputs": [],
   "source": [
    "train_X, test_X = train_test_split(X, test_size=0.2, random_state=42)\n",
    "train_y, test_y = train_test_split(y, test_size=0.2, random_state=42)"
   ]
  },
  {
   "cell_type": "code",
   "execution_count": 15,
   "metadata": {},
   "outputs": [],
   "source": [
    "from keras.models import Sequential\n",
    "from keras import datasets, layers, models\n",
    "from keras.layers import Conv2D, MaxPooling2D, Dense, Flatten"
   ]
  },
  {
   "cell_type": "code",
   "execution_count": 16,
   "metadata": {},
   "outputs": [],
   "source": [
    "\n",
    "train_X=train_X/255\n",
    "test_X=test_X/255\n"
   ]
  },
  {
   "cell_type": "code",
   "execution_count": 58,
   "metadata": {},
   "outputs": [],
   "source": [
    "# plt.imshow(train_X[0])\n",
    "cnn=models.Sequential([\n",
    "    layers.Conv2D(filters=32,kernel_size=(3,3), activation= 'relu', input_shape=(IMG_SIZE,IMG_SIZE,1)),\n",
    "    layers.MaxPooling2D((2,2)),\n",
    "\n",
    "    layers.Conv2D(filters=32,kernel_size=(3,3), activation= 'relu'),\n",
    "    layers.MaxPooling2D((2,2)),\n",
    "    \n",
    "    layers.Conv2D(filters=32,kernel_size=(3,3), activation= 'relu'),\n",
    "    layers.MaxPooling2D((2,2)),\n",
    "\n",
    "    layers.Flatten(),\n",
    "    layers.Dense(128, activation='relu'),\n",
    "    layers.Dense(64, activation='relu'),\n",
    "    layers. Dense(26,activation=\"softmax\")\n",
    "\n",
    "\n",
    "])\n",
    "\n",
    "opt= keras.optimizers.Adamax()\n",
    "cnn.compile( optimizer=opt,\n",
    "             loss ='sparse_categorical_crossentropy',\n",
    "             metrics=['accuracy'] )"
   ]
  },
  {
   "cell_type": "code",
   "execution_count": 64,
   "metadata": {},
   "outputs": [
    {
     "name": "stdout",
     "output_type": "stream",
     "text": [
      "244/244 [==============================] - 52s 212ms/step - loss: 0.1447 - accuracy: 0.9575 - val_loss: 0.0781 - val_accuracy: 0.9800\n"
     ]
    }
   ],
   "source": [
    "# cnn.fit(train_X,train_y,epochs=5)\n",
    "\n",
    "train_y=np.array(train_y)\n",
    "test_y=np.array(test_y)\n",
    "\n",
    "history=cnn.fit(train_X,train_y,epochs=1, batch_size=128, validation_data=(test_X, test_y))\n"
   ]
  },
  {
   "cell_type": "code",
   "execution_count": 65,
   "metadata": {},
   "outputs": [
    {
     "name": "stdout",
     "output_type": "stream",
     "text": [
      "244/244 [==============================] - 3s 11ms/step - loss: 0.0781 - accuracy: 0.9800\n",
      "Model: \"sequential_11\"\n",
      "_________________________________________________________________\n",
      " Layer (type)                Output Shape              Param #   \n",
      "=================================================================\n",
      " conv2d_33 (Conv2D)          (None, 58, 58, 32)        320       \n",
      "                                                                 \n",
      " max_pooling2d_33 (MaxPoolin  (None, 29, 29, 32)       0         \n",
      " g2D)                                                            \n",
      "                                                                 \n",
      " conv2d_34 (Conv2D)          (None, 27, 27, 32)        9248      \n",
      "                                                                 \n",
      " max_pooling2d_34 (MaxPoolin  (None, 13, 13, 32)       0         \n",
      " g2D)                                                            \n",
      "                                                                 \n",
      " conv2d_35 (Conv2D)          (None, 11, 11, 32)        9248      \n",
      "                                                                 \n",
      " max_pooling2d_35 (MaxPoolin  (None, 5, 5, 32)         0         \n",
      " g2D)                                                            \n",
      "                                                                 \n",
      " flatten_11 (Flatten)        (None, 800)               0         \n",
      "                                                                 \n",
      " dense_33 (Dense)            (None, 128)               102528    \n",
      "                                                                 \n",
      " dense_34 (Dense)            (None, 64)                8256      \n",
      "                                                                 \n",
      " dense_35 (Dense)            (None, 26)                1690      \n",
      "                                                                 \n",
      "=================================================================\n",
      "Total params: 131,290\n",
      "Trainable params: 131,290\n",
      "Non-trainable params: 0\n",
      "_________________________________________________________________\n"
     ]
    }
   ],
   "source": [
    "cnn.evaluate(test_X,test_y)\n",
    "cnn.summary()"
   ]
  },
  {
   "cell_type": "code",
   "execution_count": 70,
   "metadata": {},
   "outputs": [
    {
     "name": "stdout",
     "output_type": "stream",
     "text": [
      "1/1 [==============================] - 0s 23ms/step\n",
      "output is : W\n"
     ]
    },
    {
     "data": {
      "image/png": "[encoded data removed]",
      "text/plain": [
       "<Figure size 2000x200 with 1 Axes>"
      ]
     },
     "metadata": {},
     "output_type": "display_data"
    }
   ],
   "source": [
    "from sklearn.metrics import classification_report, confusion_matrix\n",
    "import pandas as pd\n",
    "rnd=random.randint(0,len(test_y))\n",
    "plt.figure(figsize=(20,2))\n",
    "plt.imshow(test_X[rnd,:], cmap=\"gray\")\n",
    "\n",
    "\n",
    "y_pred=cnn.predict((test_X[rnd,:]).reshape(1,IMG_SIZE,IMG_SIZE))\n",
    "# print(y_pred)\n",
    "output= np.argmax(y_pred)\n",
    "print(\"output is : \" + CATEGORIES[output])"
   ]
  },
  {
   "cell_type": "code",
   "execution_count": 67,
   "metadata": {},
   "outputs": [
    {
     "name": "stdout",
     "output_type": "stream",
     "text": [
      "(7800, 60, 60, 1)\n",
      "244/244 [==============================] - 3s 11ms/step\n",
      "<class 'numpy.ndarray'>\n",
      "<class 'numpy.ndarray'>\n",
      "(7800, 26)\n",
      "[1.7573512e-16 1.9905345e-07 3.1813401e-15 1.0812250e-14 2.0486638e-11\n",
      " 2.6602399e-11 5.8758451e-17 2.5907721e-18 5.1427959e-13 6.3006848e-18\n",
      " 3.3369378e-14 2.7726517e-18 1.2680345e-12 1.0849750e-17 5.5535567e-16\n",
      " 3.8864808e-18 6.1206724e-15 6.4471285e-13 1.9517304e-11 5.5279034e-14\n",
      " 2.2798351e-13 6.7601774e-14 5.9406741e-10 9.9999976e-01 1.9651355e-12\n",
      " 1.9014052e-15]\n",
      "23\n",
      "3\n",
      "23\n",
      "(7800,)\n",
      "(7800,)\n",
      "              precision    recall  f1-score   support\n",
      "\n",
      "           A       0.98      1.00      0.99       311\n",
      "           B       1.00      1.00      1.00       305\n",
      "           C       0.99      0.99      0.99       276\n",
      "           D       0.98      0.95      0.96       302\n",
      "           E       1.00      1.00      1.00       292\n",
      "           F       0.96      0.99      0.97       323\n",
      "           G       1.00      0.91      0.95       293\n",
      "           H       0.93      0.98      0.95       301\n",
      "           I       0.99      0.98      0.98       280\n",
      "           J       0.99      0.99      0.99       291\n",
      "           K       0.99      0.97      0.98       303\n",
      "           L       0.90      0.99      0.94       285\n",
      "           M       1.00      1.00      1.00       298\n",
      "           N       1.00      0.98      0.99       310\n",
      "           O       1.00      1.00      1.00       347\n",
      "           P       1.00      1.00      1.00       297\n",
      "           Q       0.98      1.00      0.99       308\n",
      "           R       0.95      0.91      0.93       318\n",
      "           S       1.00      1.00      1.00       305\n",
      "           T       1.00      0.99      0.99       309\n",
      "           U       0.91      0.94      0.93       303\n",
      "           V       0.99      0.96      0.97       309\n",
      "           W       0.96      0.98      0.97       284\n",
      "           X       1.00      0.99      1.00       307\n",
      "           Y       1.00      1.00      1.00       275\n",
      "           Z       0.99      1.00      0.99       268\n",
      "\n",
      "    accuracy                           0.98      7800\n",
      "   macro avg       0.98      0.98      0.98      7800\n",
      "weighted avg       0.98      0.98      0.98      7800\n",
      "\n"
     ]
    }
   ],
   "source": [
    "print(test_X.shape)\n",
    "y_pred=cnn.predict(test_X[:,:])\n",
    "print(type(test_y))\n",
    "print(type(y_pred))\n",
    "# print(y_pred)\n",
    "print(y_pred.shape)\n",
    "\n",
    "\n",
    "\n",
    "print(y_pred[0])\n",
    "print(np.argmax(y_pred[0]))\n",
    "print(test_y[1,])\n",
    "\n",
    "\n",
    "y_classes= [np.argmax(element) for element in y_pred]\n",
    "\n",
    "\n",
    "\n",
    "print(y_classes[0])\n",
    "n_pred=np.array(y_classes)\n",
    "print(n_pred.shape)\n",
    "print(test_y.shape)\n",
    "\n",
    "classification_report(test_y, n_pred, labels=None, target_names=CATEGORIES)\n",
    "report_dict =classification_report(test_y, n_pred, labels=None, target_names=CATEGORIES)\n",
    "print(report_dict)"
   ]
  },
  {
   "cell_type": "code",
   "execution_count": 68,
   "metadata": {},
   "outputs": [
    {
     "data": {
      "image/png": "[encoded data removed]",
      "text/plain": [
       "<Figure size 640x480 with 1 Axes>"
      ]
     },
     "metadata": {},
     "output_type": "display_data"
    },
    {
     "data": {
      "image/png": "[encoded data removed]",
      "text/plain": [
       "<Figure size 640x480 with 1 Axes>"
      ]
     },
     "metadata": {},
     "output_type": "display_data"
    }
   ],
   "source": [
    "\n",
    "\n",
    "plt.plot(history.history['accuracy'],'r')\n",
    "plt.plot(history.history['val_accuracy'],'b')\n",
    "plt.title(' accuracy')\n",
    "plt.ylabel('accuracy')\n",
    "plt.xlabel('epoch')\n",
    "plt.legend(['train', 'test'], loc='upper left')\n",
    "plt.show()\n",
    "\n",
    "\n",
    "plt.plot(history.history['loss'],'r')\n",
    "plt.plot(history.history['val_loss'],'b')\n",
    "plt.title(' loss')\n",
    "plt.ylabel('Loss')\n",
    "plt.xlabel('epoch')\n",
    "plt.legend(['train', 'test'], loc='upper left')\n",
    "plt.show()\n"
   ]
  },
  {
   "cell_type": "code",
   "execution_count": null,
   "metadata": {},
   "outputs": [],
   "source": []
  },
  {
   "cell_type": "code",
   "execution_count": null,
   "metadata": {},
   "outputs": [],
   "source": []
  },
  {
   "cell_type": "code",
   "execution_count": null,
   "metadata": {},
   "outputs": [],
   "source": []
  }
 ],
 "metadata": {
  "kernelspec": {
   "display_name": "Python 3",
   "language": "python",
   "name": "python3"
  },
  "language_info": {
   "codemirror_mode": {
    "name": "ipython",
    "version": 3
   },
   "file_extension": ".py",
   "mimetype": "text/x-python",
   "name": "python",
   "nbconvert_exporter": "python",
   "pygments_lexer": "ipython3",
   "version": "3.9.11 (tags/v3.9.11:2de452f, Mar 16 2022, 14:33:45) [MSC v.1929 64 bit (AMD64)]"
  },
  "orig_nbformat": 4,
  "vscode": {
   "interpreter": {
    "hash": "ac42d54e7b7d87b6240c9d3fa6b6cd8d9e0fb1616b7610ad8355c590de55bf25"
   }
  }
 },
 "nbformat": 4,
 "nbformat_minor": 2
}
